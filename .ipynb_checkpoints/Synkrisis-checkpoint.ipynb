{
 "cells": [
  {
   "cell_type": "markdown",
   "metadata": {
    "editable": false,
    "hideCode": true,
    "hidePrompt": true
   },
   "source": [
    "Synkrisis: The Bigraph Model Checker\n",
    "===========================\n",
    "* * *\n",
    "\n",
    "A quick introduction\n",
    "---------------------------------\n",
    "\n",
    "Synkrisis is a bigraph modelling and engineering toolchain sporting a modular approach based on Bigmc model checker.  \n",
    "It features static analysis for bigraph specification and supports its own transition system and model exporting for DTMC/MDP/LTS analysis.  \n",
    "Output transition graphs can be exported to PRISM and SPOT model checkers.  \n",
    "Note that you may download this notebook or directly pull Synkrisis and bigmc to run it locally.  \n",
    "\n",
    "\n",
    "## Resources\n",
    "More info on:        \n",
    "* Bigraphs:  https://www.itu.dk/research/pls/wiki/index.php/A_Brief_Introduction_To_Bigraphs  \n",
    "* Bigmc:     https://github.com/bigmc/bigmc  \n",
    "* Prism model checker: https://www.prismmodelchecker.org/    \n",
    "* Spot model checker:  https://spot.lrde.epita.fr/  \n",
    "* and its HOA format:  https://spot.lrde.epita.fr/concepts.html#hoa  \n",
    "\n",
    "\n",
    "## Synkrisis Syntax\n",
    "You can import your bigraph model from file using Synkrisis syntax.\n",
    "(https://github.com/AlessandroCaste/Synkrisis/wiki/Synkrisis-Syntax) \n",
    "\n",
    "This is a general layout of a bigraph model specification:  \n",
    "`controls`  \n",
    "`names`  \n",
    "`rules`  \n",
    "`model specification`  \n",
    "`makers`  \n",
    "`spot-acceptance`  \n",
    "`prism properties`  \n",
    "\n",
    "You can write your .bigraph specification in this notebook or directly from Synkrisis Shell.\n",
    "To launch Synkrisis just runn Synkrisis_Engine! :)\n",
    "\n",
    "Here you can find further sample models: https://github.com/AlessandroCaste/Synkrisis/tree/master/src/test/java/models \n",
    "* * *\n",
    "Specify your model\n",
    "----------------\n",
    "\n",
    "Input your bigraph model here:\n"
   ]
  },
  {
   "cell_type": "code",
   "execution_count": null,
   "metadata": {
    "hideCode": false,
    "hidePrompt": true
   },
   "outputs": [],
   "source": [
    "%%writefile additions.bigraph\n",
    "\n",
    "# Model Specification\n",
    "\n",
    "controls:\n",
    "    active IN 0 # for Increase or add\n",
    "    active L  0\n",
    "    active R  0\n",
    "    active Succ 0\n",
    "    active Zero 0\n",
    "\n",
    "rule r1 = IN.(L.$1|R.Zero)->$1\n",
    "rule r2 = IN.(L.$1|R.Succ.$2)->IN.(L.Succ.$1|R.$2)\n",
    "\n",
    "\n",
    "model additions = IN.(L.Succ.Succ.Zero|R.Succ.Succ.Zero)|IN.(L.Succ.Zero|R.Succ.Succ.Succ.Zero)\n",
    "\n",
    "# properties\n",
    "marker workable = !terminal()"
   ]
  },
  {
   "cell_type": "code",
   "execution_count": null,
   "metadata": {},
   "outputs": [],
   "source": [
    "# Set here the running arguments of your Synkrisis Execution\n",
    "\n",
    "# Path to the file to be executed\n",
    "filename = \"additions.bigraph\"\n",
    "\n",
    "# The name of the model inside the file (ex: addition)\n",
    "modelname = \"additions\"\n",
    "\n",
    "# Maximum number of execution steps (unlimited is 0)\n",
    "steps = 0\n",
    "\n",
    "# Print model and transition file?\n",
    "printable = True\n",
    "\n",
    "# Write some .dot file every x steps (default : 0)\n",
    "frequency = 0\n",
    "\n",
    "# Translate to the following languages?\n",
    "prism = False\n",
    "spot = False"
   ]
  },
  {
   "cell_type": "code",
   "execution_count": null,
   "metadata": {
    "editable": false,
    "hideCode": true,
    "hidePrompt": true,
    "jupyter": {
     "source_hidden": true
    }
   },
   "outputs": [],
   "source": [
    "import subprocess\n",
    "\n",
    "execution = \"java -jar Synkrisis.jar -l\" + filename\n",
    "if steps > 0:\n",
    "    execution += \" -m \" + steps\n",
    "if printable: \n",
    "    execution += \" -G \"\n",
    "if frequency > 0:\n",
    "    execution += \" -r \" + frequency\n",
    "if spot:\n",
    "    execution += \" -o spot \"\n",
    "if prism:\n",
    "    execution += \" -o prism \"\n",
    "\n",
    "result = subprocess.run(execution, stdout=subprocess.PIPE, shell=True, universal_newlines=True)\n",
    "print(result.stdout)"
   ]
  },
  {
   "cell_type": "markdown",
   "metadata": {
    "editable": false,
    "hideCode": false,
    "hidePrompt": true
   },
   "source": [
    "Visualize your model\n",
    "---------------------------------\n",
    "\n",
    "Visualize model and reactions bigraphs"
   ]
  },
  {
   "cell_type": "code",
   "execution_count": null,
   "metadata": {
    "editable": false,
    "hideCode": true,
    "hidePrompt": true,
    "jupyter": {
     "source_hidden": true
    }
   },
   "outputs": [],
   "source": [
    "from IPython.display import Image\n",
    "Image(modelname + \"/\" + modelname + \".png\") "
   ]
  },
  {
   "cell_type": "code",
   "execution_count": null,
   "metadata": {
    "editable": false,
    "hideCode": true,
    "hidePrompt": true,
    "jupyter": {
     "source_hidden": true
    }
   },
   "outputs": [],
   "source": [
    "from IPython.display import Image\n",
    "from os import listdir\n",
    "rulepath = modelname+\"/rules/\"\n",
    "for f in reversed(listdir(rulepath)):\n",
    "    display(Image (modelname+\"/rules/\"+f))"
   ]
  },
  {
   "cell_type": "markdown",
   "metadata": {
    "editable": false
   },
   "source": [
    "## Transition Visualization  \n",
    "  \n",
    "Note that transition graphs too big may or with long rules names may be impossible to write or read \n"
   ]
  },
  {
   "cell_type": "code",
   "execution_count": null,
   "metadata": {
    "editable": false,
    "hideCode": true,
    "hidePrompt": true,
    "jupyter": {
     "source_hidden": true
    }
   },
   "outputs": [],
   "source": [
    "from IPython.display import Image\n",
    "Image(modelname+\"/transition.png\") "
   ]
  }
 ],
 "metadata": {
  "celltoolbar": "Edit Metadata",
  "hide_code_all_hidden": true,
  "kernelspec": {
   "display_name": "Python 3",
   "language": "python",
   "name": "python3"
  },
  "language_info": {
   "codemirror_mode": {
    "name": "ipython",
    "version": 3
   },
   "file_extension": ".py",
   "mimetype": "text/x-python",
   "name": "python",
   "nbconvert_exporter": "python",
   "pygments_lexer": "ipython3",
   "version": "3.7.3"
  },
  "toc": {
   "base_numbering": 1,
   "nav_menu": {},
   "number_sections": false,
   "sideBar": false,
   "skip_h1_title": false,
   "title_cell": "Table of Contents",
   "title_sidebar": "Contents",
   "toc_cell": false,
   "toc_position": {},
   "toc_section_display": false,
   "toc_window_display": false
  }
 },
 "nbformat": 4,
 "nbformat_minor": 4
}
