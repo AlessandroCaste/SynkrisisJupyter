{
 "cells": [
  {
   "cell_type": "markdown",
   "metadata": {},
   "source": [
    "Synkrisis Engine\n",
    "===========================\n",
    "***\n",
    "\n",
    "Here you can run the Synkrisis Syntax Analysis and Integration tools in a Java Environment thanks to the IJAVA kernel (https://github.com/SpencerPark/IJava).       \n",
    "The shell syntax follows a very simple ***instruction [arg]*** pattern.  \n",
    "Typing _?list_ returns the following commands:\n",
    "\n",
    "```\n",
    "Abbrev   Name       Parameters        \n",
    "write    w          (filename)        \n",
    "o        output     (modelchecker)    \n",
    "O        Output     ()                                                     \n",
    "r        run        ()                                                     \n",
    "s        set        (type,value)   \n",
    "l        load       (path)\n",
    "``` \n",
    "*** \n",
    "  \n",
    "Arguments values:  \n",
    "\n",
    "```\n",
    "Argument             Value       \n",
    "filename              a string, extension not needed          \n",
    "modelchecker         'prism','spot'    \n",
    "type                 'print','steps','intermediate'\n",
    "value(print)         'model','transition','all','nothing'\n",
    "value(steps)         #steps\n",
    "value(intermediate)  #frequency\n",
    "```   \n",
    "  \n",
    "***  \n",
    "  \n",
    "Execution examples:\n",
    "\n",
    "``` \n",
    "set  print all\n",
    "load examples/addition.bigraph\n",
    "run\n",
    "``` \n",
    "  \n",
    "``` \n",
    "set  print model\n",
    "set  steps 500\n",
    "load examples/airport2.bigraph\n",
    "run\n",
    "``` \n",
    "\n",
    "***\n",
    "\n",
    "You may want to stop/execute the kernel after each execution\n"
   ]
  },
  {
   "cell_type": "code",
   "execution_count": null,
   "metadata": {},
   "outputs": [],
   "source": [
    "%jars Synkrisis.jar\n",
    "\n",
    "import antlr.bigraph.*;\n",
    "import core.*;\n",
    "import java.io.*;\n",
    "Main.main(new String[0]);"
   ]
  },
  {
   "cell_type": "code",
   "execution_count": null,
   "metadata": {},
   "outputs": [],
   "source": []
  }
 ],
 "metadata": {
  "kernelspec": {
   "display_name": "Java",
   "language": "java",
   "name": "java"
  },
  "language_info": {
   "codemirror_mode": "java",
   "file_extension": ".jshell",
   "mimetype": "text/x-java-source",
   "name": "Java",
   "pygments_lexer": "java",
   "version": "12.0.1+12"
  }
 },
 "nbformat": 4,
 "nbformat_minor": 4
}
